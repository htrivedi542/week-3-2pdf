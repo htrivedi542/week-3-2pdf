{
 "cells": [
  {
   "cell_type": "code",
   "execution_count": 20,
   "id": "9efad427-397c-42f0-b32d-1d7c78cad4ac",
   "metadata": {},
   "outputs": [],
   "source": [
    "l= [('Sachin Tendulkar', 34357), ('Ricky Ponting', 27483), ('Jack Kallis', 25534), ('Virat Kohli', 24936)]"
   ]
  },
  {
   "cell_type": "code",
   "execution_count": 21,
   "id": "43cb1aa4-5163-490e-8884-601a2e20c9a3",
   "metadata": {},
   "outputs": [
    {
     "name": "stdout",
     "output_type": "stream",
     "text": [
      "('Virat Kohli', 24936)\n",
      "('Jack Kallis', 25534)\n",
      "('Ricky Ponting', 27483)\n",
      "('Sachin Tendulkar', 34357)\n"
     ]
    }
   ],
   "source": [
    "a = sorted(l, key=lambda x: x[1])\n",
    "for l in a:\n",
    "    print(l)"
   ]
  },
  {
   "cell_type": "code",
   "execution_count": 24,
   "id": "b04dd826-dea5-420a-9e5e-d1a2d9352dd7",
   "metadata": {},
   "outputs": [
    {
     "name": "stdout",
     "output_type": "stream",
     "text": [
      "[1, 4, 9, 16, 25, 36, 49, 64, 81, 100]\n"
     ]
    }
   ],
   "source": [
    "l1=[1,2,3,4,5,6,7,8,9,10]\n",
    "\n",
    "squares=list(map(lambda x: x**2,l1))\n",
    "print(squares)"
   ]
  },
  {
   "cell_type": "code",
   "execution_count": 25,
   "id": "bc90fa5f-0901-4141-9263-f29b80339e1f",
   "metadata": {},
   "outputs": [
    {
     "name": "stdout",
     "output_type": "stream",
     "text": [
      "('1', '2', '3', '4', '5', '6', '7', '8', '9', '10')\n"
     ]
    }
   ],
   "source": [
    "numbers=[1,2,3,4,5,6,7,8,9,10]\n",
    "\n",
    "stri=tuple(map(lambda x: str(x), numbers))\n",
    "print(stri)"
   ]
  },
  {
   "cell_type": "code",
   "execution_count": 27,
   "id": "7df76c0f-2e98-43fe-8c3c-3386fa133dfb",
   "metadata": {},
   "outputs": [
    {
     "name": "stdout",
     "output_type": "stream",
     "text": [
      "620448401733239439360000\n"
     ]
    }
   ],
   "source": [
    "from functools import reduce\n",
    "\n",
    "b=list(range(1,25))\n",
    "product=reduce(lambda x,y : x*y, b)\n",
    "print(product)\n"
   ]
  },
  {
   "cell_type": "code",
   "execution_count": 28,
   "id": "19f10dde-a9bd-48de-a11e-275782203220",
   "metadata": {},
   "outputs": [
    {
     "name": "stdout",
     "output_type": "stream",
     "text": [
      "[6, 60, 90, 120]\n"
     ]
    }
   ],
   "source": [
    "number1=[2, 3, 6, 9, 27, 60, 90, 120, 55, 46]\n",
    "filnum= list(filter(lambda x : x%2 ==0 and x%3==0, number1))\n",
    "print(filnum)"
   ]
  },
  {
   "cell_type": "code",
   "execution_count": 29,
   "id": "9d953c10-b35b-442b-ae34-7f7bb598c834",
   "metadata": {},
   "outputs": [
    {
     "name": "stdout",
     "output_type": "stream",
     "text": [
      "['php', 'aba', 'radar', 'level']\n"
     ]
    }
   ],
   "source": [
    "st = ['python', 'php', 'aba', 'radar', 'level']\n",
    "palindromes = list(filter(lambda x: x == x[::-1], st))\n",
    "print(palindromes)"
   ]
  }
 ],
 "metadata": {
  "kernelspec": {
   "display_name": "Python 3 (ipykernel)",
   "language": "python",
   "name": "python3"
  },
  "language_info": {
   "codemirror_mode": {
    "name": "ipython",
    "version": 3
   },
   "file_extension": ".py",
   "mimetype": "text/x-python",
   "name": "python",
   "nbconvert_exporter": "python",
   "pygments_lexer": "ipython3",
   "version": "3.10.9"
  }
 },
 "nbformat": 4,
 "nbformat_minor": 5
}
